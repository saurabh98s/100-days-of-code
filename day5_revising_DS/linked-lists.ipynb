{
 "cells": [
  {
   "cell_type": "markdown",
   "metadata": {},
   "source": [
    "## LINKED LISTS USING PYTHON"
   ]
  },
  {
   "cell_type": "markdown",
   "metadata": {},
   "source": [
    "Before starting the linked list code,\n",
    "lets revise the concept with a simple class and objects"
   ]
  },
  {
   "cell_type": "code",
   "execution_count": 23,
   "metadata": {},
   "outputs": [],
   "source": [
    "class Robot:\n",
    "    def __init__(self,name,color,food):\n",
    "        self.name=name\n",
    "        self.color=color\n",
    "        self.food=food\n",
    "    def Introduce_self(self):\n",
    "        print(\"My name is \"+self.name+\" \"+self.color+\" \"+self.food)"
   ]
  },
  {
   "cell_type": "code",
   "execution_count": 24,
   "metadata": {},
   "outputs": [
    {
     "name": "stdout",
     "output_type": "stream",
     "text": [
      "My name is Saurabh Red Pizza\n"
     ]
    }
   ],
   "source": [
    "r1=Robot(\"Saurabh\",\"Red\",\"Pizza\")\n",
    "r1.Introduce_self()"
   ]
  },
  {
   "cell_type": "markdown",
   "metadata": {},
   "source": [
    "### Now coming to the linked list part"
   ]
  },
  {
   "cell_type": "code",
   "execution_count": null,
   "metadata": {},
   "outputs": [],
   "source": [
    "class LinkedList:\n",
    "    class Node:\n",
    "        def __init__(self,element,next):\n",
    "            self.element=element\n",
    "            self.next=next\n",
    "    def __init__(self):\n",
    "        self.head=None\n",
    "        self.tail=None\n",
    "        self.size=0\n",
    "    def __len__(self):\n",
    "        return self.size==0\n",
    "    def is_empty(self):\n",
    "        return self.size==0\n",
    "    def add_at_start(self,element):\n",
    "        newest=self.Node(element,None)\n",
    "        if self.is_empty():\n",
    "            self.head=newest\n",
    "            self.tail=newest\n",
    "        else:\n",
    "            newest.next=self.head\n",
    "        self.head=newest\n",
    "        self.size+=1\n",
    "    def add_any(self,element,pos):\n",
    "        newest=Node(element,None)\n",
    "        if self.is_empty():\n",
    "            self.head=newest\n",
    "            self.tail=newest\n",
    "        else:\n",
    "            thead=self.head\n",
    "            i=1\n",
    "            while(i<pos):\n",
    "                thead=thead.next\n",
    "                i+=1\n",
    "            newest.next=thead.next\n",
    "            thead.next=newest\n",
    "            self.size+=1\n",
    "    def display(self):\n",
    "        thead=self.head\n",
    "        while thead:\n",
    "            print(thead.element,end='-->')\n",
    "            thead=thead.next\n",
    "        print()"
   ]
  },
  {
   "cell_type": "code",
   "execution_count": null,
   "metadata": {},
   "outputs": [],
   "source": [
    "L=LinkedList()\n",
    "L.add_at_start(10)\n",
    "L.display()"
   ]
  },
  {
   "cell_type": "code",
   "execution_count": null,
   "metadata": {},
   "outputs": [],
   "source": []
  }
 ],
 "metadata": {
  "kernelspec": {
   "display_name": "Python 3",
   "language": "python",
   "name": "python3"
  },
  "language_info": {
   "codemirror_mode": {
    "name": "ipython",
    "version": 3
   },
   "file_extension": ".py",
   "mimetype": "text/x-python",
   "name": "python",
   "nbconvert_exporter": "python",
   "pygments_lexer": "ipython3",
   "version": "3.7.3"
  }
 },
 "nbformat": 4,
 "nbformat_minor": 2
}
